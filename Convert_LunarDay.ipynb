{
  "nbformat": 4,
  "nbformat_minor": 0,
  "metadata": {
    "colab": {
      "provenance": [],
      "authorship_tag": "ABX9TyNtXQ4gH63wN7Y04662Ju54",
      "include_colab_link": true
    },
    "kernelspec": {
      "name": "python3",
      "display_name": "Python 3"
    },
    "language_info": {
      "name": "python"
    }
  },
  "cells": [
    {
      "cell_type": "markdown",
      "metadata": {
        "id": "view-in-github",
        "colab_type": "text"
      },
      "source": [
        "<a href=\"https://colab.research.google.com/github/songne2023/AI/blob/main/Convert_LunarDay.ipynb\" target=\"_parent\"><img src=\"https://colab.research.google.com/assets/colab-badge.svg\" alt=\"Open In Colab\"/></a>"
      ]
    },
    {
      "cell_type": "code",
      "execution_count": null,
      "metadata": {
        "id": "RWVPztodc7A7"
      },
      "outputs": [],
      "source": [
        "!pip install korean_lunar_calendar"
      ]
    },
    {
      "cell_type": "code",
      "source": [
        "from google.colab import drive\n",
        "drive.mount('/content/drive')"
      ],
      "metadata": {
        "id": "1sEmMBiuoAXU"
      },
      "execution_count": null,
      "outputs": []
    },
    {
      "cell_type": "code",
      "source": [
        "from flask import Flask, request, render_template\n",
        "from korean_lunar_calendar import KoreanLunarCalendar\n",
        "\n",
        "app = Flask(__name__)\n",
        "\n",
        "@app.route('/', methods=['GET', 'POST'])\n",
        "def lunar_converter():\n",
        "    if request.method == 'POST':\n",
        "        year = request.form['year']\n",
        "        month = request.form['month']\n",
        "        day = request.form['day']\n",
        "\n",
        "        calendar = KoreanLunarCalendar()\n",
        "        calendar.setSolarDate(int(year), int(month), int(day))\n",
        "\n",
        "        lunar_date = calendar.LunarIsoFormat()\n",
        "        gapja_string = calendar.getGapJaString()\n",
        "        chinese_gapja_string = calendar.getChineseGapJaString()\n",
        "\n",
        "        return render_template('result.html', lunar_date=lunar_date, gapja_string=gapja_string, chinese_gapja_string=chinese_gapja_string)\n",
        "\n",
        "    return render_template('index.html')\n",
        "\n",
        "if __name__ == '__main__':\n",
        "    app.run(debug=True)\n",
        "\n",
        "\n"
      ],
      "metadata": {
        "id": "wqGkdnl-dLO-"
      },
      "execution_count": null,
      "outputs": []
    },
    {
      "cell_type": "code",
      "source": [],
      "metadata": {
        "id": "Jn2EMvP3eC25"
      },
      "execution_count": null,
      "outputs": []
    }
  ]
}